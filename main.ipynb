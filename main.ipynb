{
  "nbformat": 4,
  "nbformat_minor": 0,
  "metadata": {
    "kernelspec": {
      "display_name": "Python 3",
      "language": "python",
      "name": "python3"
    },
    "language_info": {
      "codemirror_mode": {
        "name": "ipython",
        "version": 3
      },
      "file_extension": ".py",
      "mimetype": "text/x-python",
      "name": "python",
      "nbconvert_exporter": "python",
      "pygments_lexer": "ipython3",
      "version": "3.7.4"
    },
    "colab": {
      "name": "main.ipynb",
      "provenance": [],
      "collapsed_sections": [],
      "toc_visible": true
    }
  },
  "cells": [
    {
      "cell_type": "code",
      "metadata": {
        "id": "kqKb-8slS1Eq",
        "colab_type": "code",
        "colab": {}
      },
      "source": [
        "import pandas as pd\n",
        "\n",
        "data = pd.read_csv('train.csv')\n",
        "X = data.drop(columns=['Survived'])\n",
        "y = data['Survived']"
      ],
      "execution_count": 0,
      "outputs": []
    },
    {
      "cell_type": "code",
      "metadata": {
        "id": "AJNghNfWS1E8",
        "colab_type": "code",
        "colab": {}
      },
      "source": [
        "def preprocessing(data):\n",
        "    data_new = data.drop(columns=['PassengerId', 'Name', 'Ticket', 'Cabin'])\n",
        "    data_new['Sex'] = data_new['Sex'].replace({'male': 0, 'female': 1})\n",
        "    data_new['Embarked'] = data_new['Embarked'].replace({'S': 0, 'C': 1, 'Q': 2})\n",
        "    data_new = data_new.fillna(data_new.median())\n",
        "    return data_new"
      ],
      "execution_count": 0,
      "outputs": []
    },
    {
      "cell_type": "code",
      "metadata": {
        "id": "xIYs21uIS1FC",
        "colab_type": "code",
        "colab": {}
      },
      "source": [
        "from sklearn.model_selection import train_test_split\n",
        "\n",
        "X = preprocessing(X)\n",
        "X_train, X_val, y_train, y_val = train_test_split(X, y, test_size=0.2)"
      ],
      "execution_count": 0,
      "outputs": []
    },
    {
      "cell_type": "code",
      "metadata": {
        "id": "cJoCO8HltbQR",
        "colab_type": "code",
        "colab": {
          "base_uri": "https://localhost:8080/",
          "height": 34
        },
        "outputId": "079fd083-10f4-48b8-d300-11de864b85e0"
      },
      "source": [
        "%tensorflow_version 1.x"
      ],
      "execution_count": 5,
      "outputs": [
        {
          "output_type": "stream",
          "text": [
            "TensorFlow 1.x selected.\n"
          ],
          "name": "stdout"
        }
      ]
    },
    {
      "cell_type": "code",
      "metadata": {
        "id": "H76TzMJFq9Lc",
        "colab_type": "code",
        "colab": {
          "base_uri": "https://localhost:8080/",
          "height": 188
        },
        "outputId": "e21376c6-cb82-4761-de26-4a0fe9ae581e"
      },
      "source": [
        "import keras\n",
        "from keras import models, layers\n",
        "\n",
        "\n",
        "model = models.Sequential()\n",
        "model.add(layers.Dense(64, activation='relu', input_shape=(len(X.columns),)))\n",
        "model.add(layers.BatchNormalization())\n",
        "model.add(layers.Dense(32, activation='relu'))\n",
        "model.add(layers.Dense(32, activation='relu'))\n",
        "model.add(layers.Dense(1, activation='sigmoid'))"
      ],
      "execution_count": 6,
      "outputs": [
        {
          "output_type": "stream",
          "text": [
            "Using TensorFlow backend.\n"
          ],
          "name": "stderr"
        },
        {
          "output_type": "stream",
          "text": [
            "WARNING:tensorflow:From /usr/local/lib/python3.6/dist-packages/keras/backend/tensorflow_backend.py:66: The name tf.get_default_graph is deprecated. Please use tf.compat.v1.get_default_graph instead.\n",
            "\n",
            "WARNING:tensorflow:From /usr/local/lib/python3.6/dist-packages/keras/backend/tensorflow_backend.py:541: The name tf.placeholder is deprecated. Please use tf.compat.v1.placeholder instead.\n",
            "\n",
            "WARNING:tensorflow:From /usr/local/lib/python3.6/dist-packages/keras/backend/tensorflow_backend.py:4432: The name tf.random_uniform is deprecated. Please use tf.random.uniform instead.\n",
            "\n",
            "WARNING:tensorflow:From /usr/local/lib/python3.6/dist-packages/keras/backend/tensorflow_backend.py:148: The name tf.placeholder_with_default is deprecated. Please use tf.compat.v1.placeholder_with_default instead.\n",
            "\n"
          ],
          "name": "stdout"
        }
      ]
    },
    {
      "cell_type": "code",
      "metadata": {
        "id": "D-ur5DaSS1FX",
        "colab_type": "code",
        "colab": {
          "base_uri": "https://localhost:8080/",
          "height": 154
        },
        "outputId": "ef77de2e-c309-4d68-c2bb-f4675f2c6f37"
      },
      "source": [
        "model.compile(optimizer='adam',loss='binary_crossentropy',\n",
        "              metrics=['accuracy'])"
      ],
      "execution_count": 7,
      "outputs": [
        {
          "output_type": "stream",
          "text": [
            "WARNING:tensorflow:From /usr/local/lib/python3.6/dist-packages/keras/optimizers.py:793: The name tf.train.Optimizer is deprecated. Please use tf.compat.v1.train.Optimizer instead.\n",
            "\n",
            "WARNING:tensorflow:From /usr/local/lib/python3.6/dist-packages/keras/backend/tensorflow_backend.py:3657: The name tf.log is deprecated. Please use tf.math.log instead.\n",
            "\n",
            "WARNING:tensorflow:From /tensorflow-1.15.2/python3.6/tensorflow_core/python/ops/nn_impl.py:183: where (from tensorflow.python.ops.array_ops) is deprecated and will be removed in a future version.\n",
            "Instructions for updating:\n",
            "Use tf.where in 2.0, which has the same broadcast rule as np.where\n"
          ],
          "name": "stdout"
        }
      ]
    },
    {
      "cell_type": "code",
      "metadata": {
        "id": "EwrQUzA4UCkx",
        "colab_type": "code",
        "outputId": "6c58cf9d-6103-43ee-b06d-2dded3e14bce",
        "colab": {
          "base_uri": "https://localhost:8080/",
          "height": 1000
        }
      },
      "source": [
        "model.fit(X_train, y_train, epochs=50, batch_size=32, verbose=1, validation_data=(X_val, y_val))"
      ],
      "execution_count": 8,
      "outputs": [
        {
          "output_type": "stream",
          "text": [
            "WARNING:tensorflow:From /usr/local/lib/python3.6/dist-packages/keras/backend/tensorflow_backend.py:1033: The name tf.assign_add is deprecated. Please use tf.compat.v1.assign_add instead.\n",
            "\n",
            "WARNING:tensorflow:From /usr/local/lib/python3.6/dist-packages/keras/backend/tensorflow_backend.py:1020: The name tf.assign is deprecated. Please use tf.compat.v1.assign instead.\n",
            "\n",
            "WARNING:tensorflow:From /usr/local/lib/python3.6/dist-packages/keras/backend/tensorflow_backend.py:3005: The name tf.Session is deprecated. Please use tf.compat.v1.Session instead.\n",
            "\n",
            "Train on 712 samples, validate on 179 samples\n",
            "Epoch 1/50\n",
            "WARNING:tensorflow:From /usr/local/lib/python3.6/dist-packages/keras/backend/tensorflow_backend.py:190: The name tf.get_default_session is deprecated. Please use tf.compat.v1.get_default_session instead.\n",
            "\n",
            "WARNING:tensorflow:From /usr/local/lib/python3.6/dist-packages/keras/backend/tensorflow_backend.py:197: The name tf.ConfigProto is deprecated. Please use tf.compat.v1.ConfigProto instead.\n",
            "\n",
            "WARNING:tensorflow:From /usr/local/lib/python3.6/dist-packages/keras/backend/tensorflow_backend.py:207: The name tf.global_variables is deprecated. Please use tf.compat.v1.global_variables instead.\n",
            "\n",
            "WARNING:tensorflow:From /usr/local/lib/python3.6/dist-packages/keras/backend/tensorflow_backend.py:216: The name tf.is_variable_initialized is deprecated. Please use tf.compat.v1.is_variable_initialized instead.\n",
            "\n",
            "WARNING:tensorflow:From /usr/local/lib/python3.6/dist-packages/keras/backend/tensorflow_backend.py:223: The name tf.variables_initializer is deprecated. Please use tf.compat.v1.variables_initializer instead.\n",
            "\n",
            "712/712 [==============================] - 0s 655us/step - loss: 0.6869 - acc: 0.6264 - val_loss: 0.6329 - val_acc: 0.6536\n",
            "Epoch 2/50\n",
            "712/712 [==============================] - 0s 58us/step - loss: 0.6052 - acc: 0.6896 - val_loss: 0.6144 - val_acc: 0.6592\n",
            "Epoch 3/50\n",
            "712/712 [==============================] - 0s 73us/step - loss: 0.5934 - acc: 0.6882 - val_loss: 0.6043 - val_acc: 0.6648\n",
            "Epoch 4/50\n",
            "712/712 [==============================] - 0s 61us/step - loss: 0.5673 - acc: 0.7079 - val_loss: 0.6038 - val_acc: 0.6872\n",
            "Epoch 5/50\n",
            "712/712 [==============================] - 0s 59us/step - loss: 0.5514 - acc: 0.7261 - val_loss: 0.6101 - val_acc: 0.6760\n",
            "Epoch 6/50\n",
            "712/712 [==============================] - 0s 59us/step - loss: 0.5431 - acc: 0.7374 - val_loss: 0.5810 - val_acc: 0.6983\n",
            "Epoch 7/50\n",
            "712/712 [==============================] - 0s 60us/step - loss: 0.5317 - acc: 0.7346 - val_loss: 0.5750 - val_acc: 0.7039\n",
            "Epoch 8/50\n",
            "712/712 [==============================] - 0s 58us/step - loss: 0.5201 - acc: 0.7416 - val_loss: 0.5751 - val_acc: 0.6983\n",
            "Epoch 9/50\n",
            "712/712 [==============================] - 0s 58us/step - loss: 0.5137 - acc: 0.7486 - val_loss: 0.5628 - val_acc: 0.7263\n",
            "Epoch 10/50\n",
            "712/712 [==============================] - 0s 59us/step - loss: 0.4808 - acc: 0.7837 - val_loss: 0.5758 - val_acc: 0.7039\n",
            "Epoch 11/50\n",
            "712/712 [==============================] - 0s 57us/step - loss: 0.4504 - acc: 0.8216 - val_loss: 0.5840 - val_acc: 0.7151\n",
            "Epoch 12/50\n",
            "712/712 [==============================] - 0s 59us/step - loss: 0.4484 - acc: 0.8146 - val_loss: 0.5787 - val_acc: 0.7207\n",
            "Epoch 13/50\n",
            "712/712 [==============================] - 0s 65us/step - loss: 0.4415 - acc: 0.8020 - val_loss: 0.5444 - val_acc: 0.7486\n",
            "Epoch 14/50\n",
            "712/712 [==============================] - 0s 67us/step - loss: 0.4245 - acc: 0.8244 - val_loss: 0.5682 - val_acc: 0.7263\n",
            "Epoch 15/50\n",
            "712/712 [==============================] - 0s 58us/step - loss: 0.4086 - acc: 0.8202 - val_loss: 0.5598 - val_acc: 0.7318\n",
            "Epoch 16/50\n",
            "712/712 [==============================] - 0s 58us/step - loss: 0.4250 - acc: 0.8048 - val_loss: 0.5327 - val_acc: 0.7598\n",
            "Epoch 17/50\n",
            "712/712 [==============================] - 0s 60us/step - loss: 0.4161 - acc: 0.8160 - val_loss: 0.5174 - val_acc: 0.7877\n",
            "Epoch 18/50\n",
            "712/712 [==============================] - 0s 62us/step - loss: 0.4143 - acc: 0.8202 - val_loss: 0.4983 - val_acc: 0.7933\n",
            "Epoch 19/50\n",
            "712/712 [==============================] - 0s 67us/step - loss: 0.4167 - acc: 0.8146 - val_loss: 0.5010 - val_acc: 0.7709\n",
            "Epoch 20/50\n",
            "712/712 [==============================] - 0s 81us/step - loss: 0.3995 - acc: 0.8202 - val_loss: 0.5265 - val_acc: 0.7765\n",
            "Epoch 21/50\n",
            "712/712 [==============================] - 0s 67us/step - loss: 0.4057 - acc: 0.8118 - val_loss: 0.4881 - val_acc: 0.7989\n",
            "Epoch 22/50\n",
            "712/712 [==============================] - 0s 62us/step - loss: 0.3936 - acc: 0.8258 - val_loss: 0.4847 - val_acc: 0.7933\n",
            "Epoch 23/50\n",
            "712/712 [==============================] - 0s 61us/step - loss: 0.4092 - acc: 0.8230 - val_loss: 0.4945 - val_acc: 0.7989\n",
            "Epoch 24/50\n",
            "712/712 [==============================] - 0s 61us/step - loss: 0.4053 - acc: 0.8244 - val_loss: 0.4755 - val_acc: 0.7933\n",
            "Epoch 25/50\n",
            "712/712 [==============================] - 0s 59us/step - loss: 0.3920 - acc: 0.8258 - val_loss: 0.4523 - val_acc: 0.8156\n",
            "Epoch 26/50\n",
            "712/712 [==============================] - 0s 59us/step - loss: 0.4081 - acc: 0.8216 - val_loss: 0.4644 - val_acc: 0.7877\n",
            "Epoch 27/50\n",
            "712/712 [==============================] - 0s 59us/step - loss: 0.3985 - acc: 0.8244 - val_loss: 0.5197 - val_acc: 0.7654\n",
            "Epoch 28/50\n",
            "712/712 [==============================] - 0s 62us/step - loss: 0.3928 - acc: 0.8230 - val_loss: 0.4961 - val_acc: 0.8045\n",
            "Epoch 29/50\n",
            "712/712 [==============================] - 0s 60us/step - loss: 0.4043 - acc: 0.8230 - val_loss: 0.4812 - val_acc: 0.8156\n",
            "Epoch 30/50\n",
            "712/712 [==============================] - 0s 63us/step - loss: 0.3920 - acc: 0.8315 - val_loss: 0.4434 - val_acc: 0.8212\n",
            "Epoch 31/50\n",
            "712/712 [==============================] - 0s 62us/step - loss: 0.4038 - acc: 0.8216 - val_loss: 0.4445 - val_acc: 0.8324\n",
            "Epoch 32/50\n",
            "712/712 [==============================] - 0s 61us/step - loss: 0.3990 - acc: 0.8146 - val_loss: 0.4575 - val_acc: 0.8492\n",
            "Epoch 33/50\n",
            "712/712 [==============================] - 0s 63us/step - loss: 0.3951 - acc: 0.8287 - val_loss: 0.4535 - val_acc: 0.8324\n",
            "Epoch 34/50\n",
            "712/712 [==============================] - 0s 64us/step - loss: 0.4012 - acc: 0.8216 - val_loss: 0.4559 - val_acc: 0.8268\n",
            "Epoch 35/50\n",
            "712/712 [==============================] - 0s 67us/step - loss: 0.4073 - acc: 0.8188 - val_loss: 0.4516 - val_acc: 0.8268\n",
            "Epoch 36/50\n",
            "712/712 [==============================] - 0s 62us/step - loss: 0.4036 - acc: 0.8272 - val_loss: 0.4717 - val_acc: 0.8045\n",
            "Epoch 37/50\n",
            "712/712 [==============================] - 0s 62us/step - loss: 0.3937 - acc: 0.8272 - val_loss: 0.4493 - val_acc: 0.8212\n",
            "Epoch 38/50\n",
            "712/712 [==============================] - 0s 62us/step - loss: 0.4022 - acc: 0.8230 - val_loss: 0.4585 - val_acc: 0.8101\n",
            "Epoch 39/50\n",
            "712/712 [==============================] - 0s 62us/step - loss: 0.3916 - acc: 0.8258 - val_loss: 0.4525 - val_acc: 0.8324\n",
            "Epoch 40/50\n",
            "712/712 [==============================] - 0s 58us/step - loss: 0.4064 - acc: 0.8188 - val_loss: 0.4358 - val_acc: 0.8268\n",
            "Epoch 41/50\n",
            "712/712 [==============================] - 0s 60us/step - loss: 0.3902 - acc: 0.8399 - val_loss: 0.4549 - val_acc: 0.8212\n",
            "Epoch 42/50\n",
            "712/712 [==============================] - 0s 60us/step - loss: 0.3965 - acc: 0.8216 - val_loss: 0.4398 - val_acc: 0.8324\n",
            "Epoch 43/50\n",
            "712/712 [==============================] - 0s 59us/step - loss: 0.3919 - acc: 0.8371 - val_loss: 0.4676 - val_acc: 0.8212\n",
            "Epoch 44/50\n",
            "712/712 [==============================] - 0s 58us/step - loss: 0.3856 - acc: 0.8329 - val_loss: 0.4587 - val_acc: 0.8268\n",
            "Epoch 45/50\n",
            "712/712 [==============================] - 0s 65us/step - loss: 0.3877 - acc: 0.8329 - val_loss: 0.4423 - val_acc: 0.8268\n",
            "Epoch 46/50\n",
            "712/712 [==============================] - 0s 64us/step - loss: 0.3837 - acc: 0.8315 - val_loss: 0.4448 - val_acc: 0.8268\n",
            "Epoch 47/50\n",
            "712/712 [==============================] - 0s 59us/step - loss: 0.3885 - acc: 0.8258 - val_loss: 0.4548 - val_acc: 0.8212\n",
            "Epoch 48/50\n",
            "712/712 [==============================] - 0s 57us/step - loss: 0.4007 - acc: 0.8258 - val_loss: 0.4375 - val_acc: 0.8380\n",
            "Epoch 49/50\n",
            "712/712 [==============================] - 0s 59us/step - loss: 0.3852 - acc: 0.8357 - val_loss: 0.4437 - val_acc: 0.8380\n",
            "Epoch 50/50\n",
            "712/712 [==============================] - 0s 61us/step - loss: 0.3856 - acc: 0.8216 - val_loss: 0.4480 - val_acc: 0.8212\n"
          ],
          "name": "stdout"
        },
        {
          "output_type": "execute_result",
          "data": {
            "text/plain": [
              "<keras.callbacks.History at 0x7fc1bcef8fd0>"
            ]
          },
          "metadata": {
            "tags": []
          },
          "execution_count": 8
        }
      ]
    },
    {
      "cell_type": "code",
      "metadata": {
        "id": "VzT7QjAqEU3h",
        "colab_type": "code",
        "colab": {}
      },
      "source": [
        "model.save(\"titanic.h5\")"
      ],
      "execution_count": 0,
      "outputs": []
    }
  ]
}